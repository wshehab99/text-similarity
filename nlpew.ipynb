{
 "cells": [
  {
   "cell_type": "code",
   "execution_count": 1,
   "id": "11766db1",
   "metadata": {},
   "outputs": [
    {
     "data": {
      "text/html": [
       "<div>\n",
       "<style scoped>\n",
       "    .dataframe tbody tr th:only-of-type {\n",
       "        vertical-align: middle;\n",
       "    }\n",
       "\n",
       "    .dataframe tbody tr th {\n",
       "        vertical-align: top;\n",
       "    }\n",
       "\n",
       "    .dataframe thead th {\n",
       "        text-align: right;\n",
       "    }\n",
       "</style>\n",
       "<table border=\"1\" class=\"dataframe\">\n",
       "  <thead>\n",
       "    <tr style=\"text-align: right;\">\n",
       "      <th></th>\n",
       "      <th>qtext</th>\n",
       "      <th>label</th>\n",
       "      <th>atext</th>\n",
       "      <th>kwweight</th>\n",
       "      <th>aboutkwweight</th>\n",
       "      <th>toklabels</th>\n",
       "    </tr>\n",
       "  </thead>\n",
       "  <tbody>\n",
       "    <tr>\n",
       "      <th>0</th>\n",
       "      <td>What is the street address of the White House ?</td>\n",
       "      <td>1</td>\n",
       "      <td>The North Lawn at the White House in Washingto...</td>\n",
       "      <td>0.0</td>\n",
       "      <td>2.3</td>\n",
       "      <td>0 0 0 0 0 0 0 0 0 0 0 0 0 0 0 0 0 0 1 1 0 0 0 ...</td>\n",
       "    </tr>\n",
       "    <tr>\n",
       "      <th>1</th>\n",
       "      <td>What is the street address of the White House ?</td>\n",
       "      <td>1</td>\n",
       "      <td>Because it is bordered by Pennsylvania Avenue ...</td>\n",
       "      <td>5.6</td>\n",
       "      <td>2.3</td>\n",
       "      <td>0 0 0 0 0 1 1 0 0 0 0 0 0 0 0 0 0 0 0 0 0 0 0 ...</td>\n",
       "    </tr>\n",
       "    <tr>\n",
       "      <th>2</th>\n",
       "      <td>What is the street address of the White House ?</td>\n",
       "      <td>0</td>\n",
       "      <td>A circular pool with fountain is centered on t...</td>\n",
       "      <td>0.0</td>\n",
       "      <td>2.3</td>\n",
       "      <td>0 0 0 0 0 0 0 0 0 0 0 0 0 0 0 0</td>\n",
       "    </tr>\n",
       "    <tr>\n",
       "      <th>3</th>\n",
       "      <td>What is the street address of the White House ?</td>\n",
       "      <td>0</td>\n",
       "      <td>Visiting heads of state enter the White House ...</td>\n",
       "      <td>0.0</td>\n",
       "      <td>2.3</td>\n",
       "      <td>0 0 0 0 0 0 0 0 0 0 0 0 0 0 0 0 0 0 0 0 0</td>\n",
       "    </tr>\n",
       "    <tr>\n",
       "      <th>4</th>\n",
       "      <td>What is the street address of the White House ?</td>\n",
       "      <td>0</td>\n",
       "      <td>White House correspondents , for television ne...</td>\n",
       "      <td>0.0</td>\n",
       "      <td>2.3</td>\n",
       "      <td>0 0 0 0 0 0 0 0 0 0 0 0 0 0 0 0 0 0 0 0 0 0</td>\n",
       "    </tr>\n",
       "  </tbody>\n",
       "</table>\n",
       "</div>"
      ],
      "text/plain": [
       "                                             qtext  label  \\\n",
       "0  What is the street address of the White House ?      1   \n",
       "1  What is the street address of the White House ?      1   \n",
       "2  What is the street address of the White House ?      0   \n",
       "3  What is the street address of the White House ?      0   \n",
       "4  What is the street address of the White House ?      0   \n",
       "\n",
       "                                               atext  kwweight  aboutkwweight  \\\n",
       "0  The North Lawn at the White House in Washingto...       0.0            2.3   \n",
       "1  Because it is bordered by Pennsylvania Avenue ...       5.6            2.3   \n",
       "2  A circular pool with fountain is centered on t...       0.0            2.3   \n",
       "3  Visiting heads of state enter the White House ...       0.0            2.3   \n",
       "4  White House correspondents , for television ne...       0.0            2.3   \n",
       "\n",
       "                                           toklabels  \n",
       "0  0 0 0 0 0 0 0 0 0 0 0 0 0 0 0 0 0 0 1 1 0 0 0 ...  \n",
       "1  0 0 0 0 0 1 1 0 0 0 0 0 0 0 0 0 0 0 0 0 0 0 0 ...  \n",
       "2                    0 0 0 0 0 0 0 0 0 0 0 0 0 0 0 0  \n",
       "3          0 0 0 0 0 0 0 0 0 0 0 0 0 0 0 0 0 0 0 0 0  \n",
       "4        0 0 0 0 0 0 0 0 0 0 0 0 0 0 0 0 0 0 0 0 0 0  "
      ]
     },
     "execution_count": 1,
     "metadata": {},
     "output_type": "execute_result"
    }
   ],
   "source": [
    "import pandas as pd\n",
    "df=pd.read_csv(\"E:/nbn/New folder (2)/dataset-sts-master/data/anssel/yodaqa/large2470-training.csv\")\n",
    "df=df[:20000]\n",
    "df.head()"
   ]
  },
  {
   "cell_type": "code",
   "execution_count": 2,
   "id": "4379c554",
   "metadata": {},
   "outputs": [],
   "source": [
    "import nltk\n",
    "from nltk.corpus import stopwords\n",
    "import nltk.data\n",
    "from nltk.stem import PorterStemmer\n",
    "from nltk.util import ngrams\n",
    "import pandas as pd\n",
    "import string\n",
    "from string import punctuation\n",
    "stopWords=set(stopwords.words('english'))\n",
    "punc=list(string.punctuation)\n"
   ]
  },
  {
   "cell_type": "code",
   "execution_count": 3,
   "id": "5f23fa5b",
   "metadata": {},
   "outputs": [],
   "source": [
    "df=df.fillna(' ')"
   ]
  },
  {
   "cell_type": "code",
   "execution_count": 4,
   "id": "ecfae1dc",
   "metadata": {},
   "outputs": [],
   "source": [
    "def remove_stopWords(text):#\n",
    "    t=[]\n",
    "    for word in text.split(): #tokens nltk.wordtoknize(text)\n",
    "        #stripe() =>removes any spaces or specified characters at the start and end of a string\n",
    "        if word.strip().lower() not in stopWords:\n",
    "            t.append(word)\n",
    "    return \" \".join(t)\n",
    "#remove punctuation\n",
    "def remove_punctuation(text):\n",
    "    t=[]\n",
    "    for word in text.split(): #tokens\n",
    "        #stripe() =>removes any spaces or specified characters at the start and end of a string\n",
    "        if word.strip().lower() not in punc:\n",
    "            t.append(word)\n",
    "            \n",
    "    return \" \".join(t)"
   ]
  },
  {
   "cell_type": "code",
   "execution_count": 5,
   "id": "15487c5e",
   "metadata": {},
   "outputs": [],
   "source": [
    "def limma(text):\n",
    "    t=[]\n",
    "    wnl=nltk.WordNetLemmatizer()\n",
    "    for word in text.split():\n",
    "        if word.strip() not in stopWords and word not in punc:\n",
    "            t.append(wnl.lemmatize(word))\n",
    "    return \" \".join(t)\n"
   ]
  },
  {
   "cell_type": "code",
   "execution_count": 6,
   "id": "2b7d7fc6",
   "metadata": {},
   "outputs": [],
   "source": [
    "del df['toklabels']\n",
    "del df['aboutkwweight']\n",
    "del df['kwweight']"
   ]
  },
  {
   "cell_type": "code",
   "execution_count": 7,
   "id": "be35207f",
   "metadata": {},
   "outputs": [],
   "source": [
    "df['qtext']=df['qtext'].apply(remove_stopWords)\n",
    "df['qtext']=df['qtext'].apply(remove_punctuation)\n",
    "df['qtext']=df['qtext'].apply(limma)"
   ]
  },
  {
   "cell_type": "code",
   "execution_count": 8,
   "id": "311e2ec2",
   "metadata": {},
   "outputs": [],
   "source": [
    "df['atext']=df['atext'].apply(remove_stopWords)\n",
    "df['atext']=df['atext'].apply(remove_punctuation)\n",
    "df['atext']=df['atext'].apply(limma)"
   ]
  },
  {
   "cell_type": "code",
   "execution_count": 9,
   "id": "641ac41d",
   "metadata": {},
   "outputs": [
    {
     "data": {
      "text/html": [
       "<div>\n",
       "<style scoped>\n",
       "    .dataframe tbody tr th:only-of-type {\n",
       "        vertical-align: middle;\n",
       "    }\n",
       "\n",
       "    .dataframe tbody tr th {\n",
       "        vertical-align: top;\n",
       "    }\n",
       "\n",
       "    .dataframe thead th {\n",
       "        text-align: right;\n",
       "    }\n",
       "</style>\n",
       "<table border=\"1\" class=\"dataframe\">\n",
       "  <thead>\n",
       "    <tr style=\"text-align: right;\">\n",
       "      <th></th>\n",
       "      <th>qtext</th>\n",
       "      <th>label</th>\n",
       "      <th>atext</th>\n",
       "      <th>text</th>\n",
       "    </tr>\n",
       "  </thead>\n",
       "  <tbody>\n",
       "    <tr>\n",
       "      <th>0</th>\n",
       "      <td>street address White House</td>\n",
       "      <td>1</td>\n",
       "      <td>North Lawn White House Washington DC bordered ...</td>\n",
       "      <td>street address White House North Lawn White Ho...</td>\n",
       "    </tr>\n",
       "    <tr>\n",
       "      <th>1</th>\n",
       "      <td>street address White House</td>\n",
       "      <td>1</td>\n",
       "      <td>bordered Pennsylvania Avenue White House 's of...</td>\n",
       "      <td>street address White House bordered Pennsylvan...</td>\n",
       "    </tr>\n",
       "    <tr>\n",
       "      <th>2</th>\n",
       "      <td>street address White House</td>\n",
       "      <td>0</td>\n",
       "      <td>circular pool fountain centered north portico ...</td>\n",
       "      <td>street address White House circular pool fount...</td>\n",
       "    </tr>\n",
       "    <tr>\n",
       "      <th>3</th>\n",
       "      <td>street address White House</td>\n",
       "      <td>0</td>\n",
       "      <td>Visiting head state enter White House ground o...</td>\n",
       "      <td>street address White House Visiting head state...</td>\n",
       "    </tr>\n",
       "    <tr>\n",
       "      <th>4</th>\n",
       "      <td>street address White House</td>\n",
       "      <td>0</td>\n",
       "      <td>White House correspondent television news ofte...</td>\n",
       "      <td>street address White House White House corresp...</td>\n",
       "    </tr>\n",
       "  </tbody>\n",
       "</table>\n",
       "</div>"
      ],
      "text/plain": [
       "                        qtext  label  \\\n",
       "0  street address White House      1   \n",
       "1  street address White House      1   \n",
       "2  street address White House      0   \n",
       "3  street address White House      0   \n",
       "4  street address White House      0   \n",
       "\n",
       "                                               atext  \\\n",
       "0  North Lawn White House Washington DC bordered ...   \n",
       "1  bordered Pennsylvania Avenue White House 's of...   \n",
       "2  circular pool fountain centered north portico ...   \n",
       "3  Visiting head state enter White House ground o...   \n",
       "4  White House correspondent television news ofte...   \n",
       "\n",
       "                                                text  \n",
       "0  street address White House North Lawn White Ho...  \n",
       "1  street address White House bordered Pennsylvan...  \n",
       "2  street address White House circular pool fount...  \n",
       "3  street address White House Visiting head state...  \n",
       "4  street address White House White House corresp...  "
      ]
     },
     "execution_count": 9,
     "metadata": {},
     "output_type": "execute_result"
    }
   ],
   "source": [
    "df['text']=df['qtext']+\" \"+df['atext']\n",
    "df.head()"
   ]
  },
  {
   "cell_type": "code",
   "execution_count": 10,
   "id": "46a88267",
   "metadata": {},
   "outputs": [],
   "source": [
    "y=df.iloc[:,1].values"
   ]
  },
  {
   "cell_type": "code",
   "execution_count": 11,
   "id": "e3f28dba",
   "metadata": {},
   "outputs": [
    {
     "data": {
      "text/html": [
       "<div>\n",
       "<style scoped>\n",
       "    .dataframe tbody tr th:only-of-type {\n",
       "        vertical-align: middle;\n",
       "    }\n",
       "\n",
       "    .dataframe tbody tr th {\n",
       "        vertical-align: top;\n",
       "    }\n",
       "\n",
       "    .dataframe thead th {\n",
       "        text-align: right;\n",
       "    }\n",
       "</style>\n",
       "<table border=\"1\" class=\"dataframe\">\n",
       "  <thead>\n",
       "    <tr style=\"text-align: right;\">\n",
       "      <th></th>\n",
       "      <th>qtext</th>\n",
       "      <th>label</th>\n",
       "      <th>atext</th>\n",
       "      <th>text</th>\n",
       "    </tr>\n",
       "  </thead>\n",
       "  <tbody>\n",
       "    <tr>\n",
       "      <th>0</th>\n",
       "      <td>street address White House</td>\n",
       "      <td>1</td>\n",
       "      <td>North Lawn White House Washington DC bordered ...</td>\n",
       "      <td>street address White House North Lawn White Ho...</td>\n",
       "    </tr>\n",
       "    <tr>\n",
       "      <th>1</th>\n",
       "      <td>street address White House</td>\n",
       "      <td>1</td>\n",
       "      <td>bordered Pennsylvania Avenue White House 's of...</td>\n",
       "      <td>street address White House bordered Pennsylvan...</td>\n",
       "    </tr>\n",
       "    <tr>\n",
       "      <th>2</th>\n",
       "      <td>street address White House</td>\n",
       "      <td>0</td>\n",
       "      <td>circular pool fountain centered north portico ...</td>\n",
       "      <td>street address White House circular pool fount...</td>\n",
       "    </tr>\n",
       "    <tr>\n",
       "      <th>3</th>\n",
       "      <td>street address White House</td>\n",
       "      <td>0</td>\n",
       "      <td>Visiting head state enter White House ground o...</td>\n",
       "      <td>street address White House Visiting head state...</td>\n",
       "    </tr>\n",
       "    <tr>\n",
       "      <th>4</th>\n",
       "      <td>street address White House</td>\n",
       "      <td>0</td>\n",
       "      <td>White House correspondent television news ofte...</td>\n",
       "      <td>street address White House White House corresp...</td>\n",
       "    </tr>\n",
       "  </tbody>\n",
       "</table>\n",
       "</div>"
      ],
      "text/plain": [
       "                        qtext  label  \\\n",
       "0  street address White House      1   \n",
       "1  street address White House      1   \n",
       "2  street address White House      0   \n",
       "3  street address White House      0   \n",
       "4  street address White House      0   \n",
       "\n",
       "                                               atext  \\\n",
       "0  North Lawn White House Washington DC bordered ...   \n",
       "1  bordered Pennsylvania Avenue White House 's of...   \n",
       "2  circular pool fountain centered north portico ...   \n",
       "3  Visiting head state enter White House ground o...   \n",
       "4  White House correspondent television news ofte...   \n",
       "\n",
       "                                                text  \n",
       "0  street address White House North Lawn White Ho...  \n",
       "1  street address White House bordered Pennsylvan...  \n",
       "2  street address White House circular pool fount...  \n",
       "3  street address White House Visiting head state...  \n",
       "4  street address White House White House corresp...  "
      ]
     },
     "execution_count": 11,
     "metadata": {},
     "output_type": "execute_result"
    }
   ],
   "source": [
    "df.head()"
   ]
  },
  {
   "cell_type": "code",
   "execution_count": 12,
   "id": "c0b0b2f5",
   "metadata": {},
   "outputs": [],
   "source": [
    "del df['label']"
   ]
  },
  {
   "cell_type": "code",
   "execution_count": null,
   "id": "f99d3dcb",
   "metadata": {},
   "outputs": [],
   "source": []
  },
  {
   "cell_type": "code",
   "execution_count": 13,
   "id": "88685253",
   "metadata": {},
   "outputs": [],
   "source": [
    "from sklearn.feature_extraction.text import TfidfVectorizer\n",
    "qvec=TfidfVectorizer()\n",
    "qfeatures=qvec.fit_transform(df['text']).toarray()"
   ]
  },
  {
   "cell_type": "code",
   "execution_count": 14,
   "id": "3dcb7463",
   "metadata": {},
   "outputs": [
    {
     "name": "stdout",
     "output_type": "stream",
     "text": [
      "30710\n",
      "30710\n"
     ]
    }
   ],
   "source": [
    "s=sorted(qvec.vocabulary_.keys())\n",
    "print(len(s))\n",
    "print(len(qfeatures[0]))"
   ]
  },
  {
   "cell_type": "code",
   "execution_count": 15,
   "id": "7857dfe9",
   "metadata": {},
   "outputs": [],
   "source": [
    "text=[]\n",
    "for i in range(len(df)):\n",
    "    result=[0]*len(s)\n",
    "    for word in df['qtext'][i].split():\n",
    "        if word in s:\n",
    "            result[s.index(word)] = qfeatures[i][s.index(word)]\n",
    "    text.append(result)\n",
    "                "
   ]
  },
  {
   "cell_type": "code",
   "execution_count": 16,
   "id": "ae7020b4",
   "metadata": {},
   "outputs": [
    {
     "name": "stdout",
     "output_type": "stream",
     "text": [
      "0.12562020495092815\n",
      "0.12453544022125125\n"
     ]
    }
   ],
   "source": [
    "for i in text[0]:\n",
    "    if i != 0:\n",
    "        print(i)"
   ]
  },
  {
   "cell_type": "code",
   "execution_count": 17,
   "id": "8e2ee56c",
   "metadata": {},
   "outputs": [],
   "source": [
    "atext=[]\n",
    "for i in range(len(df)):\n",
    "    result=[0]*len(s)\n",
    "    for word in df['atext'][i].split():\n",
    "        if word in s:\n",
    "            result[s.index(word)] = qfeatures[i][s.index(word)]\n",
    "    atext.append(result)\n",
    "                "
   ]
  },
  {
   "cell_type": "code",
   "execution_count": 18,
   "id": "420889c8",
   "metadata": {},
   "outputs": [
    {
     "data": {
      "text/plain": [
       "30710"
      ]
     },
     "execution_count": 18,
     "metadata": {},
     "output_type": "execute_result"
    }
   ],
   "source": [
    "len(atext[0])"
   ]
  },
  {
   "cell_type": "code",
   "execution_count": 29,
   "id": "1e3ae35c",
   "metadata": {},
   "outputs": [
    {
     "name": "stdout",
     "output_type": "stream",
     "text": [
      "0.1600904205748002\n",
      "0.24190704934440824\n",
      "0.21861698699543586\n",
      "0.24190704934440824\n",
      "0.12295664448035452\n",
      "0.1743782270492314\n",
      "0.19155441985863367\n",
      "0.1933707470009295\n",
      "0.411941597668742\n",
      "0.1860585117343135\n",
      "0.16220979470289607\n",
      "0.22428879730857654\n",
      "0.2492192846110242\n",
      "0.2276828668452281\n",
      "0.21398278053936085\n",
      "0.15860935517054997\n",
      "0.1933707470009295\n"
     ]
    }
   ],
   "source": []
  },
  {
   "cell_type": "code",
   "execution_count": null,
   "id": "4618c485",
   "metadata": {},
   "outputs": [],
   "source": []
  },
  {
   "cell_type": "code",
   "execution_count": 21,
   "id": "e517788c",
   "metadata": {},
   "outputs": [],
   "source": [
    "from sklearn.metrics.pairwise import cosine_similarity,cosine_distances\n",
    "import numpy as np\n",
    "text=np.array(text)\n",
    "atext=np.array(atext)\n",
    "cofeature=[]\n",
    "for i in range(len(text)):\n",
    "    cofeature.append(cosine_similarity(text[i].reshape(1,-1),atext[i].reshape(1,-1)))"
   ]
  },
  {
   "cell_type": "code",
   "execution_count": 22,
   "id": "796b66ea",
   "metadata": {},
   "outputs": [],
   "source": [
    "x=[]\n",
    "for i in range(len(cofeature)):\n",
    "    x.append(cofeature[i][0][0])"
   ]
  },
  {
   "cell_type": "code",
   "execution_count": null,
   "id": "134385d1",
   "metadata": {},
   "outputs": [],
   "source": []
  },
  {
   "cell_type": "code",
   "execution_count": 23,
   "id": "c0ae5db8",
   "metadata": {},
   "outputs": [],
   "source": [
    "\n",
    "from sklearn.model_selection import train_test_split\n",
    "x_train,x_test,y_train,y_test=train_test_split(x,y,test_size=0.2,random_state=0)"
   ]
  },
  {
   "cell_type": "code",
   "execution_count": 24,
   "id": "2c8b49c3",
   "metadata": {},
   "outputs": [
    {
     "name": "stdout",
     "output_type": "stream",
     "text": [
      "(16000, 1)\n",
      "(4000, 1)\n"
     ]
    }
   ],
   "source": [
    "x_train=np.array(x_train).reshape(-1,1)\n",
    "x_test=np.array(x_test).reshape(-1,1)\n",
    "\n",
    "print(x_train.shape)\n",
    "print(x_test.shape)"
   ]
  },
  {
   "cell_type": "code",
   "execution_count": null,
   "id": "0a629cff",
   "metadata": {},
   "outputs": [],
   "source": []
  },
  {
   "cell_type": "code",
   "execution_count": 25,
   "id": "f66c9b19",
   "metadata": {},
   "outputs": [
    {
     "data": {
      "text/plain": [
       "MultinomialNB()"
      ]
     },
     "execution_count": 25,
     "metadata": {},
     "output_type": "execute_result"
    }
   ],
   "source": [
    "from sklearn.naive_bayes import MultinomialNB\n",
    "#use the classifier\n",
    "model= MultinomialNB()\n",
    "model.fit(x_train,y_train)"
   ]
  },
  {
   "cell_type": "code",
   "execution_count": 26,
   "id": "a31fd9e4",
   "metadata": {},
   "outputs": [
    {
     "name": "stdout",
     "output_type": "stream",
     "text": [
      "0.9245\n"
     ]
    }
   ],
   "source": [
    "predicted=model.predict(x_test)\n",
    "print(np.mean(predicted==y_test))"
   ]
  },
  {
   "cell_type": "code",
   "execution_count": 27,
   "id": "0069f79e",
   "metadata": {},
   "outputs": [
    {
     "data": {
      "text/html": [
       "<div>\n",
       "<style scoped>\n",
       "    .dataframe tbody tr th:only-of-type {\n",
       "        vertical-align: middle;\n",
       "    }\n",
       "\n",
       "    .dataframe tbody tr th {\n",
       "        vertical-align: top;\n",
       "    }\n",
       "\n",
       "    .dataframe thead th {\n",
       "        text-align: right;\n",
       "    }\n",
       "</style>\n",
       "<table border=\"1\" class=\"dataframe\">\n",
       "  <thead>\n",
       "    <tr style=\"text-align: right;\">\n",
       "      <th></th>\n",
       "      <th>qtext</th>\n",
       "      <th>atext</th>\n",
       "      <th>text</th>\n",
       "    </tr>\n",
       "  </thead>\n",
       "  <tbody>\n",
       "    <tr>\n",
       "      <th>0</th>\n",
       "      <td>street address White House</td>\n",
       "      <td>North Lawn White House Washington DC bordered ...</td>\n",
       "      <td>street address White House North Lawn White Ho...</td>\n",
       "    </tr>\n",
       "    <tr>\n",
       "      <th>1</th>\n",
       "      <td>street address White House</td>\n",
       "      <td>bordered Pennsylvania Avenue White House 's of...</td>\n",
       "      <td>street address White House bordered Pennsylvan...</td>\n",
       "    </tr>\n",
       "    <tr>\n",
       "      <th>2</th>\n",
       "      <td>street address White House</td>\n",
       "      <td>circular pool fountain centered north portico ...</td>\n",
       "      <td>street address White House circular pool fount...</td>\n",
       "    </tr>\n",
       "    <tr>\n",
       "      <th>3</th>\n",
       "      <td>street address White House</td>\n",
       "      <td>Visiting head state enter White House ground o...</td>\n",
       "      <td>street address White House Visiting head state...</td>\n",
       "    </tr>\n",
       "    <tr>\n",
       "      <th>4</th>\n",
       "      <td>street address White House</td>\n",
       "      <td>White House correspondent television news ofte...</td>\n",
       "      <td>street address White House White House corresp...</td>\n",
       "    </tr>\n",
       "  </tbody>\n",
       "</table>\n",
       "</div>"
      ],
      "text/plain": [
       "                        qtext  \\\n",
       "0  street address White House   \n",
       "1  street address White House   \n",
       "2  street address White House   \n",
       "3  street address White House   \n",
       "4  street address White House   \n",
       "\n",
       "                                               atext  \\\n",
       "0  North Lawn White House Washington DC bordered ...   \n",
       "1  bordered Pennsylvania Avenue White House 's of...   \n",
       "2  circular pool fountain centered north portico ...   \n",
       "3  Visiting head state enter White House ground o...   \n",
       "4  White House correspondent television news ofte...   \n",
       "\n",
       "                                                text  \n",
       "0  street address White House North Lawn White Ho...  \n",
       "1  street address White House bordered Pennsylvan...  \n",
       "2  street address White House circular pool fount...  \n",
       "3  street address White House Visiting head state...  \n",
       "4  street address White House White House corresp...  "
      ]
     },
     "execution_count": 27,
     "metadata": {},
     "output_type": "execute_result"
    }
   ],
   "source": []
  },
  {
   "cell_type": "code",
   "execution_count": null,
   "id": "8485e0d6",
   "metadata": {},
   "outputs": [],
   "source": []
  }
 ],
 "metadata": {
  "kernelspec": {
   "display_name": "Python 3",
   "language": "python",
   "name": "python3"
  },
  "language_info": {
   "codemirror_mode": {
    "name": "ipython",
    "version": 3
   },
   "file_extension": ".py",
   "mimetype": "text/x-python",
   "name": "python",
   "nbconvert_exporter": "python",
   "pygments_lexer": "ipython3",
   "version": "3.8.8"
  }
 },
 "nbformat": 4,
 "nbformat_minor": 5
}
